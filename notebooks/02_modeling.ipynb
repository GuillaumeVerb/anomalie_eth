{
  "cells": [
    {
      "cell_type": "markdown",
      "metadata": {},
      "source": [
        "# Ethereum Transaction Anomaly Detection\n",
        "\n",
        "This notebook explores anomaly detection on Ethereum transactions using:\n",
        "- Isolation Forest\n",
        "- DBSCAN\n",
        "\n",
        "We'll compare their performance and visualize the results."
      ]
    },
    {
      "cell_type": "code",
      "execution_count": null,
      "metadata": {},
      "source": [
        "import pandas as pd\n",
        "import numpy as np\n",
        "import matplotlib.pyplot as plt\n",
        "import seaborn as sns\n",
        "from pathlib import Path\n",
        "\n",
        "# Custom imports\n",
        "from src.preprocessing import transform_data\n",
        "from src.modeling import anomaly_detection_pipeline\n",
        "\n",
        "# Plotting settings\n",
        "plt.style.use('seaborn')\n",
        "sns.set_palette('Set2')\n",
        "%matplotlib inline"
      ]
    },
    {
      "cell_type": "markdown",
      "metadata": {},
      "source": [
        "## 1. Load and Prepare Data"
      ]
    },
    {
      "cell_type": "code",
      "execution_count": null,
      "metadata": {},
      "source": [
        "# Load most recent raw data file\n",
        "raw_data_path = max(Path('../data/raw').glob('transactions_*.csv'))\n",
        "df_raw = pd.read_csv(raw_data_path)\n",
        "\n",
        "print(f\"Loaded {len(df_raw)} transactions from {raw_data_path.name}\")\n",
        "df_raw.head()"
      ]
    },
    {
      "cell_type": "code",
      "execution_count": null,
      "metadata": {},
      "source": [
        "# Transform data and add features\n",
        "df_processed = transform_data(df_raw)\n",
        "\n",
        "print(\"\\nFeatures available:\")\n",
        "for col in df_processed.columns:\n",
        "    print(f\"- {col}\")"
      ]
    },
    {
      "cell_type": "markdown",
      "metadata": {},
      "source": [
        "## 2. Exploratory Data Analysis"
      ]
    },
    {
      "cell_type": "code",
      "execution_count": null,
      "metadata": {},
      "source": [
        "def plot_distribution(df, column, bins=50):\n",
        "    plt.figure(figsize=(12, 5))\n",
        "    \n",
        "    plt.subplot(1, 2, 1)\n",
        "    sns.histplot(data=df, x=column, bins=bins)\n",
        "    plt.title(f'Distribution of {column}')\n",
        "    \n",
        "    plt.subplot(1, 2, 2)\n",
        "    sns.histplot(data=df, x=column, bins=bins, log_scale=True)\n",
        "    plt.title(f'Log Distribution of {column}')\n",
        "    \n",
        "    plt.tight_layout()\n",
        "\n",
        "# Plot key features distributions\n",
        "for feature in ['value', 'gas_price', 'transaction_fee']:\n",
        "    plot_distribution(df_processed, feature)\n",
        "\n",
        "# Plot derived features\n",
        "for feature in ['log_value', 'value_to_gas_ratio', 'tx_density']:\n",
        "    plot_distribution(df_processed, feature)"
      ]
    },
    {
      "cell_type": "code",
      "execution_count": null,
      "metadata": {},
      "source": [
        "# Correlation heatmap of numerical features\n",
        "numerical_features = df_processed.select_dtypes(include=[np.number]).columns\n",
        "correlation = df_processed[numerical_features].corr()\n",
        "\n",
        "plt.figure(figsize=(12, 10))\n",
        "sns.heatmap(correlation, annot=True, cmap='coolwarm', center=0)\n",
        "plt.title('Feature Correlations')\n",
        "plt.tight_layout()"
      ]
    },
    {
      "cell_type": "markdown",
      "metadata": {},
      "source": [
        "## 3. Anomaly Detection"
      ]
    },
    {
      "cell_type": "code",
      "execution_count": null,
      "metadata": {},
      "source": [
        "# Run both models\n",
        "results_if = anomaly_detection_pipeline(df_processed, model_type=\"IF\")\n",
        "results_dbscan = anomaly_detection_pipeline(df_processed, model_type=\"DBSCAN\")"
      ]
    },
    {
      "cell_type": "code",
      "execution_count": null,
      "metadata": {},
      "source": [
        "# Compare results\n",
        "def compare_anomalies(df1, df2):\n",
        "    anomalies_if = df1['anomaly_label'].sum()\n",
        "    anomalies_dbscan = df2['anomaly_label'].sum()\n",
        "    \n",
        "    # Calculate agreement between models\n",
        "    agreement = (df1['anomaly_label'] == df2['anomaly_label']).mean() * 100\n",
        "    \n",
        "    print(\"Model Comparison:\")\n",
        "    print(f\"IsolationForest detected: {anomalies_if} anomalies ({anomalies_if/len(df1)*100:.2f}%)\")\n",
        "    print(f\"DBSCAN detected: {anomalies_dbscan} anomalies ({anomalies_dbscan/len(df2)*100:.2f}%)\")\n",
        "    print(f\"Models agree on {agreement:.2f}% of transactions\")\n",
        "\n",
        "compare_anomalies(results_if, results_dbscan)"
      ]
    },
    {
      "cell_type": "code",
      "execution_count": null,
      "metadata": {},
      "source": [
        "# Visualize anomalies\n",
        "def plot_anomalies(df, feature_x, feature_y, model_name):\n",
        "    plt.figure(figsize=(10, 6))\n",
        "    \n",
        "    # Plot normal and anomalous points\n",
        "    normal = df[df['anomaly_label'] == 0]\n",
        "    anomalies = df[df['anomaly_label'] == 1]\n",
        "    \n",
        "    plt.scatter(normal[feature_x], normal[feature_y], \n",
        "                c='blue', label='Normal', alpha=0.5, s=50)\n",
        "    plt.scatter(anomalies[feature_x], anomalies[feature_y], \n",
        "                c='red', label='Anomaly', alpha=0.7, s=100)\n",
        "    \n",
        "    plt.xlabel(feature_x)\n",
        "    plt.ylabel(feature_y)\n",
        "    plt.title(f'Anomalies detected by {model_name}')\n",
        "    plt.legend()\n",
        "    plt.tight_layout()\n",
        "\n",
        "# Plot for both models\n",
        "for df, name in [(results_if, 'Isolation Forest'), (results_dbscan, 'DBSCAN')]:\n",
        "    plot_anomalies(df, 'log_value', 'log_gas_price', name)\n",
        "    plot_anomalies(df, 'value_to_gas_ratio', 'fee_to_value_ratio', name)"
      ]
    },
    {
      "cell_type": "markdown",
      "metadata": {},
      "source": [
        "## 4. Analyze Anomalous Transactions"
      ]
    },
    {
      "cell_type": "code",
      "execution_count": null,
      "metadata": {},
      "source": [
        "# Compare characteristics of normal vs anomalous transactions\n",
        "def analyze_anomalies(df, model_name):\n",
        "    normal = df[df['anomaly_label'] == 0]\n",
        "    anomalies = df[df['anomaly_label'] == 1]\n",
        "    \n",
        "    print(f\"\\nAnalysis for {model_name}:\")\n",
        "    print(\"\\nMean values:\")\n",
        "    for col in ['value', 'gas_price', 'transaction_fee']:\n",
        "        print(f\"{col}:\")\n",
        "        print(f\"  Normal: {normal[col].mean():.2f}\")\n",
        "        print(f\"  Anomalous: {anomalies[col].mean():.2f}\")\n",
        "\n",
        "analyze_anomalies(results_if, \"Isolation Forest\")\n",
        "analyze_anomalies(results_dbscan, \"DBSCAN\")"
      ]
    },
    {
      "cell_type": "markdown",
      "metadata": {},
      "source": [
        "## 5. Save Results"
      ]
    },
    {
      "cell_type": "code",
      "execution_count": null,
      "metadata": {},
      "source": [
        "# Combine results from both models\n",
        "final_df = df_processed.copy()\n",
        "final_df['anomaly_if'] = results_if['anomaly_label']\n",
        "final_df['anomaly_dbscan'] = results_dbscan['anomaly_label']\n",
        "final_df['anomaly_agreement'] = (final_df['anomaly_if'] == final_df['anomaly_dbscan']).astype(int)\n",
        "\n",
        "# Save to processed directory\n",
        "output_path = Path('../data/processed/transactions_labeled.csv')\n",
        "final_df.to_csv(output_path, index=False)\n",
        "print(f\"Results saved to {output_path}\")"
      ]
    }
  ],
  "metadata": {
    "kernelspec": {
      "display_name": "Python 3",
      "language": "python",
      "name": "python3"
    }
  },
  "nbformat": 4,
  "nbformat_minor": 4
}