{
 "cells": [
  {
   "cell_type": "markdown",
   "id": "07b1c80d",
   "metadata": {},
   "source": [
    "# Collecte et Comparaison des Données Ethereum\n",
    "\n",
    "Ce notebook a pour objectif de comparer les données de transactions Ethereum obtenues via deux sources différentes :\n",
    "1. L'API Etherscan : pour obtenir l'historique des transactions d'une adresse spécifique\n",
    "2. Web3 : pour obtenir les transactions des blocs récents\n",
    "\n",
    "Cette comparaison nous permettra de :\n",
    "- Valider la cohérence des données entre les sources\n",
    "- Enrichir notre jeu de données avec des informations complémentaires\n",
    "- Identifier les avantages et limitations de chaque source"
   ]
  },
  {
   "cell_type": "code",
   "execution_count": 2,
   "id": "4e1a0c8b",
   "metadata": {},
   "outputs": [],
   "source": [
    "import os\n",
    "import sys\n",
    "import pandas as pd\n",
    "import numpy as np\n",
    "from datetime import datetime, timedelta\n",
    "import logging\n",
    "from pathlib import Path\n",
    "\n",
    "# Add src to PYTHONPATH\n",
    "project_root = Path().absolute().parent\n",
    "if str(project_root) not in sys.path:\n",
    "    sys.path.append(str(project_root))\n",
    "\n",
    "from src.config import RAW_DATA_DIR, PROCESSED_DATA_DIR\n",
    "from src.data_collection import fetch_transactions, fetch_address_transactions_etherscan\n",
    "\n",
    "# Configure logging\n",
    "logging.basicConfig(\n",
    "    level=logging.INFO,\n",
    "    format='%(asctime)s - %(levelname)s - %(message)s'\n",
    ")"
   ]
  },
  {
   "cell_type": "markdown",
   "id": "cef9eecc",
   "metadata": {},
   "source": [
    "## 1. Collecte des données via Etherscan\n",
    "\n",
    "Nous allons d'abord collecter l'historique des transactions pour une adresse spécifique via l'API Etherscan. \n",
    "Pour cet exemple, nous utiliserons l'adresse du hot wallet de Binance : `0x28C6c06298d514Db089934071355E5743bf21d60`"
   ]
  },
  {
   "cell_type": "code",
   "execution_count": 3,
   "id": "17588cf1",
   "metadata": {},
   "outputs": [
    {
     "name": "stderr",
     "output_type": "stream",
     "text": [
      "2025-01-15 20:41:14,186 - src.etherscan_api - INFO - Retrieved 10000 transactions for address 0x28C6c06298d514Db089934071355E5743bf21d60\n",
      "2025-01-15 20:41:14,187 - src.data_collection - INFO - Retrieved 10000 transactions for address 0x28C6c06298d514Db089934071355E5743bf21d60\n",
      "2025-01-15 20:41:14,649 - src.data_collection - INFO - Saved transactions to /Users/guillaumeverbiguie/Desktop/Anomalie_eth/data/raw/0x28C6c06298d514Db089934071355E5743bf21d60_transactions.csv\n"
     ]
    },
    {
     "name": "stdout",
     "output_type": "stream",
     "text": [
      "Nombre de transactions collectées via Etherscan : 10000\n"
     ]
    },
    {
     "data": {
      "text/html": [
       "<div>\n",
       "<style scoped>\n",
       "    .dataframe tbody tr th:only-of-type {\n",
       "        vertical-align: middle;\n",
       "    }\n",
       "\n",
       "    .dataframe tbody tr th {\n",
       "        vertical-align: top;\n",
       "    }\n",
       "\n",
       "    .dataframe thead th {\n",
       "        text-align: right;\n",
       "    }\n",
       "</style>\n",
       "<table border=\"1\" class=\"dataframe\">\n",
       "  <thead>\n",
       "    <tr style=\"text-align: right;\">\n",
       "      <th></th>\n",
       "      <th>timestamp</th>\n",
       "      <th>block_number</th>\n",
       "      <th>hash</th>\n",
       "      <th>from_address</th>\n",
       "      <th>to_address</th>\n",
       "      <th>value</th>\n",
       "      <th>gas</th>\n",
       "      <th>gas_price</th>\n",
       "    </tr>\n",
       "  </thead>\n",
       "  <tbody>\n",
       "    <tr>\n",
       "      <th>0</th>\n",
       "      <td>2025-01-15 19:40:59</td>\n",
       "      <td>21632037</td>\n",
       "      <td>0x56ff8afe0c24f62b556ce64452e206aaf655f67d1bd3...</td>\n",
       "      <td>0x28c6c06298d514db089934071355e5743bf21d60</td>\n",
       "      <td>0x220522658c89b9adfab5eb14fbc2d7d8fb4a5a54</td>\n",
       "      <td>0.431318</td>\n",
       "      <td>207128</td>\n",
       "      <td>16200807180</td>\n",
       "    </tr>\n",
       "    <tr>\n",
       "      <th>1</th>\n",
       "      <td>2025-01-15 19:40:59</td>\n",
       "      <td>21632037</td>\n",
       "      <td>0x789a7b060b466c12733e3a156e111abe63b7f84851ac...</td>\n",
       "      <td>0x28c6c06298d514db089934071355e5743bf21d60</td>\n",
       "      <td>0x7fc66500c84a76ad7e9c93437bfc5ac33e2ddae9</td>\n",
       "      <td>0.000000</td>\n",
       "      <td>414256</td>\n",
       "      <td>16200807180</td>\n",
       "    </tr>\n",
       "    <tr>\n",
       "      <th>2</th>\n",
       "      <td>2025-01-15 19:40:35</td>\n",
       "      <td>21632035</td>\n",
       "      <td>0xc812371960d437e48d1300ad646de64c748c50d482e9...</td>\n",
       "      <td>0x28c6c06298d514db089934071355e5743bf21d60</td>\n",
       "      <td>0xa0b86991c6218b36c1d19d4a2e9eb0ce3606eb48</td>\n",
       "      <td>0.000000</td>\n",
       "      <td>207128</td>\n",
       "      <td>16253655847</td>\n",
       "    </tr>\n",
       "    <tr>\n",
       "      <th>3</th>\n",
       "      <td>2025-01-15 19:40:35</td>\n",
       "      <td>21632035</td>\n",
       "      <td>0x4255a7b71016f147666933981b83c5490c0dc3a25956...</td>\n",
       "      <td>0x28c6c06298d514db089934071355e5743bf21d60</td>\n",
       "      <td>0xed04915c23f00a313a544955524eb7dbd823143d</td>\n",
       "      <td>0.000000</td>\n",
       "      <td>207128</td>\n",
       "      <td>16253655847</td>\n",
       "    </tr>\n",
       "    <tr>\n",
       "      <th>4</th>\n",
       "      <td>2025-01-15 19:40:35</td>\n",
       "      <td>21632035</td>\n",
       "      <td>0x656c2e5c5ed05972c922c235dc4ebe3b3b70af699ae9...</td>\n",
       "      <td>0x28c6c06298d514db089934071355e5743bf21d60</td>\n",
       "      <td>0x8b532d1ab0e0c3c98605169644e3e091e4b0ee6f</td>\n",
       "      <td>0.019779</td>\n",
       "      <td>207128</td>\n",
       "      <td>16253655847</td>\n",
       "    </tr>\n",
       "  </tbody>\n",
       "</table>\n",
       "</div>"
      ],
      "text/plain": [
       "            timestamp  block_number   \n",
       "0 2025-01-15 19:40:59      21632037  \\\n",
       "1 2025-01-15 19:40:59      21632037   \n",
       "2 2025-01-15 19:40:35      21632035   \n",
       "3 2025-01-15 19:40:35      21632035   \n",
       "4 2025-01-15 19:40:35      21632035   \n",
       "\n",
       "                                                hash   \n",
       "0  0x56ff8afe0c24f62b556ce64452e206aaf655f67d1bd3...  \\\n",
       "1  0x789a7b060b466c12733e3a156e111abe63b7f84851ac...   \n",
       "2  0xc812371960d437e48d1300ad646de64c748c50d482e9...   \n",
       "3  0x4255a7b71016f147666933981b83c5490c0dc3a25956...   \n",
       "4  0x656c2e5c5ed05972c922c235dc4ebe3b3b70af699ae9...   \n",
       "\n",
       "                                 from_address   \n",
       "0  0x28c6c06298d514db089934071355e5743bf21d60  \\\n",
       "1  0x28c6c06298d514db089934071355e5743bf21d60   \n",
       "2  0x28c6c06298d514db089934071355e5743bf21d60   \n",
       "3  0x28c6c06298d514db089934071355e5743bf21d60   \n",
       "4  0x28c6c06298d514db089934071355e5743bf21d60   \n",
       "\n",
       "                                   to_address     value     gas    gas_price  \n",
       "0  0x220522658c89b9adfab5eb14fbc2d7d8fb4a5a54  0.431318  207128  16200807180  \n",
       "1  0x7fc66500c84a76ad7e9c93437bfc5ac33e2ddae9  0.000000  414256  16200807180  \n",
       "2  0xa0b86991c6218b36c1d19d4a2e9eb0ce3606eb48  0.000000  207128  16253655847  \n",
       "3  0xed04915c23f00a313a544955524eb7dbd823143d  0.000000  207128  16253655847  \n",
       "4  0x8b532d1ab0e0c3c98605169644e3e091e4b0ee6f  0.019779  207128  16253655847  "
      ]
     },
     "execution_count": 3,
     "metadata": {},
     "output_type": "execute_result"
    }
   ],
   "source": [
    "# Adresse du hot wallet de Binance\n",
    "address = '0x28C6c06298d514Db089934071355E5743bf21d60'\n",
    "\n",
    "# Collecte des transactions via Etherscan\n",
    "etherscan_transactions = fetch_address_transactions_etherscan(address)\n",
    "\n",
    "print(f\"Nombre de transactions collectées via Etherscan : {len(etherscan_transactions)}\")\n",
    "etherscan_transactions.head()"
   ]
  },
  {
   "cell_type": "markdown",
   "id": "1960198d",
   "metadata": {},
   "source": [
    "## 2. Collecte des données via Web3\n",
    "\n",
    "Maintenant, nous allons collecter les transactions des blocs récents via Web3 pour comparer avec les données d'Etherscan."
   ]
  },
  {
   "cell_type": "code",
   "execution_count": 4,
   "id": "a943f289",
   "metadata": {},
   "outputs": [
    {
     "name": "stderr",
     "output_type": "stream",
     "text": [
      "Fetching blocks: 100%|██████████| 100/100 [00:39<00:00,  2.51it/s]\n",
      "2025-01-15 20:42:00,432 - src.data_collection - INFO - Data collection completed. Transactions saved to /Users/guillaumeverbiguie/Desktop/Anomalie_eth/data/raw/transactions_20250115_204200.csv\n"
     ]
    },
    {
     "name": "stdout",
     "output_type": "stream",
     "text": [
      "Nombre de transactions collectées via Web3 : 17817\n"
     ]
    },
    {
     "data": {
      "text/html": [
       "<div>\n",
       "<style scoped>\n",
       "    .dataframe tbody tr th:only-of-type {\n",
       "        vertical-align: middle;\n",
       "    }\n",
       "\n",
       "    .dataframe tbody tr th {\n",
       "        vertical-align: top;\n",
       "    }\n",
       "\n",
       "    .dataframe thead th {\n",
       "        text-align: right;\n",
       "    }\n",
       "</style>\n",
       "<table border=\"1\" class=\"dataframe\">\n",
       "  <thead>\n",
       "    <tr style=\"text-align: right;\">\n",
       "      <th></th>\n",
       "      <th>hash</th>\n",
       "      <th>block_number</th>\n",
       "      <th>from_address</th>\n",
       "      <th>to_address</th>\n",
       "      <th>value</th>\n",
       "      <th>gas</th>\n",
       "      <th>block_timestamp</th>\n",
       "      <th>gas_price</th>\n",
       "      <th>transaction_fee</th>\n",
       "    </tr>\n",
       "  </thead>\n",
       "  <tbody>\n",
       "    <tr>\n",
       "      <th>0</th>\n",
       "      <td>0xfe51bc8dbefc05d4049ec95d57faae442c41d2edb338...</td>\n",
       "      <td>21632038</td>\n",
       "      <td>0x576ee2ad743b6daDA280e88261Afb3e107BDAED9</td>\n",
       "      <td>0x3328F7f4A1D1C57c35df56bBf0c9dCAFCA309C49</td>\n",
       "      <td>0.100000</td>\n",
       "      <td>471312</td>\n",
       "      <td>1736970071</td>\n",
       "      <td>29.051617</td>\n",
       "      <td>1.369238e+07</td>\n",
       "    </tr>\n",
       "    <tr>\n",
       "      <th>1</th>\n",
       "      <td>0xa27eba8db4eb5dba74753315123127c8c28b1ba5e792...</td>\n",
       "      <td>21632038</td>\n",
       "      <td>0x41f7A9b39498f32adE0c8691866EE751b4b622EA</td>\n",
       "      <td>0x8934347DeE1DCd76D81eb38A6E3Ce7CaB5bd9c53</td>\n",
       "      <td>17.296497</td>\n",
       "      <td>21000</td>\n",
       "      <td>1736970071</td>\n",
       "      <td>24.200000</td>\n",
       "      <td>5.082000e+05</td>\n",
       "    </tr>\n",
       "    <tr>\n",
       "      <th>2</th>\n",
       "      <td>0xe93e09f5939982d965866dc6ccdd5bec3b8f1a01a02f...</td>\n",
       "      <td>21632038</td>\n",
       "      <td>0x7A6e99771575A5ac3D2796b7Ee0ad0Cce36a29Df</td>\n",
       "      <td>0x0eF56548dAF2eB21792F7d70D0A7D72c37F02683</td>\n",
       "      <td>0.001203</td>\n",
       "      <td>21000</td>\n",
       "      <td>1736970071</td>\n",
       "      <td>24.200000</td>\n",
       "      <td>5.082000e+05</td>\n",
       "    </tr>\n",
       "    <tr>\n",
       "      <th>3</th>\n",
       "      <td>0x264e837c8e614326dd750114a6e88538b207b48f989d...</td>\n",
       "      <td>21632038</td>\n",
       "      <td>0xa826e12fC46A4b2bff0107E6a3B787465f033F6c</td>\n",
       "      <td>0x5BF9A6E2859959689058872670bAcCda50533f38</td>\n",
       "      <td>0.029422</td>\n",
       "      <td>21000</td>\n",
       "      <td>1736970071</td>\n",
       "      <td>22.000000</td>\n",
       "      <td>4.620000e+05</td>\n",
       "    </tr>\n",
       "    <tr>\n",
       "      <th>4</th>\n",
       "      <td>0x10fe6c22bc08c330015696191f7949d5cca2cc1c868b...</td>\n",
       "      <td>21632038</td>\n",
       "      <td>0x9acbB72Cf67103A30333A32CD203459c6a9c3311</td>\n",
       "      <td>0xcf0C122c6b73ff809C693DB761e7BaeBe62b6a2E</td>\n",
       "      <td>0.000000</td>\n",
       "      <td>90000</td>\n",
       "      <td>1736970071</td>\n",
       "      <td>21.000000</td>\n",
       "      <td>1.890000e+06</td>\n",
       "    </tr>\n",
       "  </tbody>\n",
       "</table>\n",
       "</div>"
      ],
      "text/plain": [
       "                                                hash  block_number   \n",
       "0  0xfe51bc8dbefc05d4049ec95d57faae442c41d2edb338...      21632038  \\\n",
       "1  0xa27eba8db4eb5dba74753315123127c8c28b1ba5e792...      21632038   \n",
       "2  0xe93e09f5939982d965866dc6ccdd5bec3b8f1a01a02f...      21632038   \n",
       "3  0x264e837c8e614326dd750114a6e88538b207b48f989d...      21632038   \n",
       "4  0x10fe6c22bc08c330015696191f7949d5cca2cc1c868b...      21632038   \n",
       "\n",
       "                                 from_address   \n",
       "0  0x576ee2ad743b6daDA280e88261Afb3e107BDAED9  \\\n",
       "1  0x41f7A9b39498f32adE0c8691866EE751b4b622EA   \n",
       "2  0x7A6e99771575A5ac3D2796b7Ee0ad0Cce36a29Df   \n",
       "3  0xa826e12fC46A4b2bff0107E6a3B787465f033F6c   \n",
       "4  0x9acbB72Cf67103A30333A32CD203459c6a9c3311   \n",
       "\n",
       "                                   to_address      value     gas   \n",
       "0  0x3328F7f4A1D1C57c35df56bBf0c9dCAFCA309C49   0.100000  471312  \\\n",
       "1  0x8934347DeE1DCd76D81eb38A6E3Ce7CaB5bd9c53  17.296497   21000   \n",
       "2  0x0eF56548dAF2eB21792F7d70D0A7D72c37F02683   0.001203   21000   \n",
       "3  0x5BF9A6E2859959689058872670bAcCda50533f38   0.029422   21000   \n",
       "4  0xcf0C122c6b73ff809C693DB761e7BaeBe62b6a2E   0.000000   90000   \n",
       "\n",
       "   block_timestamp  gas_price  transaction_fee  \n",
       "0       1736970071  29.051617     1.369238e+07  \n",
       "1       1736970071  24.200000     5.082000e+05  \n",
       "2       1736970071  24.200000     5.082000e+05  \n",
       "3       1736970071  22.000000     4.620000e+05  \n",
       "4       1736970071  21.000000     1.890000e+06  "
      ]
     },
     "execution_count": 4,
     "metadata": {},
     "output_type": "execute_result"
    }
   ],
   "source": [
    "# Collecte des transactions via Web3\n",
    "web3_transactions = fetch_transactions()\n",
    "\n",
    "print(f\"Nombre de transactions collectées via Web3 : {len(web3_transactions)}\")\n",
    "web3_transactions.head()"
   ]
  },
  {
   "cell_type": "markdown",
   "id": "6b3e58a9",
   "metadata": {},
   "source": [
    "## 3. Comparaison et Combinaison des Données\n",
    "\n",
    "Analysons les différences entre les deux sources de données et créons un jeu de données unifié."
   ]
  },
  {
   "cell_type": "code",
   "execution_count": 5,
   "id": "944a1625",
   "metadata": {},
   "outputs": [
    {
     "name": "stdout",
     "output_type": "stream",
     "text": [
      "Colonnes Etherscan : ['timestamp', 'block_number', 'hash', 'from_address', 'to_address', 'value', 'gas', 'gas_price']\n",
      "\n",
      "Colonnes Web3 : ['hash', 'block_number', 'from_address', 'to_address', 'value', 'gas', 'block_timestamp', 'gas_price', 'transaction_fee']\n",
      "\n",
      "Nombre de transactions communes : 152\n"
     ]
    }
   ],
   "source": [
    "# Comparaison des colonnes\n",
    "print(\"Colonnes Etherscan :\", etherscan_transactions.columns.tolist())\n",
    "print(\"\\nColonnes Web3 :\", web3_transactions.columns.tolist())\n",
    "\n",
    "# Identification des transactions communes\n",
    "common_txs = pd.merge(\n",
    "    etherscan_transactions,\n",
    "    web3_transactions,\n",
    "    on='hash',\n",
    "    how='inner',\n",
    "    suffixes=('_etherscan', '_web3')\n",
    ")\n",
    "\n",
    "print(f\"\\nNombre de transactions communes : {len(common_txs)}\")"
   ]
  },
  {
   "cell_type": "code",
   "execution_count": 6,
   "id": "d56e33d0",
   "metadata": {},
   "outputs": [
    {
     "name": "stdout",
     "output_type": "stream",
     "text": [
      "Données sauvegardées dans : /Users/guillaumeverbiguie/Desktop/Anomalie_eth/data/raw/combined_transactions_20250115_204307.csv\n"
     ]
    }
   ],
   "source": [
    "# Sauvegarde des données combinées\n",
    "output_file = RAW_DATA_DIR / f'combined_transactions_{datetime.now().strftime(\"%Y%m%d_%H%M%S\")}.csv'\n",
    "common_txs.to_csv(output_file, index=False)\n",
    "print(f\"Données sauvegardées dans : {output_file}\")"
   ]
  }
 ],
 "metadata": {
  "kernelspec": {
   "display_name": "venv",
   "language": "python",
   "name": "python3"
  },
  "language_info": {
   "codemirror_mode": {
    "name": "ipython",
    "version": 3
   },
   "file_extension": ".py",
   "mimetype": "text/x-python",
   "name": "python",
   "nbconvert_exporter": "python",
   "pygments_lexer": "ipython3",
   "version": "3.9.13"
  }
 },
 "nbformat": 4,
 "nbformat_minor": 5
}
